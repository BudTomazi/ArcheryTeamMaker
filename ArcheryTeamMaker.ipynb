{
  "nbformat": 4,
  "nbformat_minor": 0,
  "metadata": {
    "colab": {
      "provenance": [],
      "authorship_tag": "ABX9TyPV8T5KEweBiy+BLDmuOwSn",
      "include_colab_link": true
    },
    "kernelspec": {
      "name": "python3",
      "display_name": "Python 3"
    },
    "language_info": {
      "name": "python"
    }
  },
  "cells": [
    {
      "cell_type": "markdown",
      "metadata": {
        "id": "view-in-github",
        "colab_type": "text"
      },
      "source": [
        "<a href=\"https://colab.research.google.com/github/BudTomazi/ArcheryTeamMaker/blob/main/ArcheryTeamMaker.ipynb\" target=\"_parent\"><img src=\"https://colab.research.google.com/assets/colab-badge.svg\" alt=\"Open In Colab\"/></a>"
      ]
    },
    {
      "cell_type": "code",
      "execution_count": 29,
      "metadata": {
        "id": "NYCFybXIXT7X"
      },
      "outputs": [],
      "source": [
        "import numpy as np\n",
        "import random as r\n",
        "import pandas as pd"
      ]
    },
    {
      "cell_type": "code",
      "source": [
        "def correctness(scores):\n",
        "\taveraged_scores = average_score(scores)\n",
        "\tvariance = np.std(averaged_scores)\n",
        "\treturn variance\n",
        "\n",
        "def average_score(scores):\n",
        "\tscore_array = np.array(scores)\n",
        "\tsize = score_array.shape[0]\n",
        "\tteams_array = np.reshape(score_array, (int(size/3), 3))\n",
        "\tteam_scores = np.sum(teams_array, axis=1)\n",
        "\tteam_sizes = np.sum(np.where(teams_array > 0, 1, 0), axis=1)\n",
        "\taveraged_scores = team_scores / team_sizes\n",
        "\treturn averaged_scores\n"
      ],
      "metadata": {
        "id": "781FgoyvXZBb"
      },
      "execution_count": 30,
      "outputs": []
    },
    {
      "cell_type": "code",
      "source": [
        "from google.colab import files\n",
        "uploaded = files.upload()\n",
        "import io\n",
        "df = pd.read_csv(io.BytesIO(uploaded['GBOScores.csv']))"
      ],
      "metadata": {
        "colab": {
          "base_uri": "https://localhost:8080/",
          "height": 73
        },
        "id": "0kaV5GmRXqWv",
        "outputId": "3c91c0e1-5eab-46d5-a550-2e23bdc96f72"
      },
      "execution_count": 31,
      "outputs": [
        {
          "output_type": "display_data",
          "data": {
            "text/plain": [
              "<IPython.core.display.HTML object>"
            ],
            "text/html": [
              "\n",
              "     <input type=\"file\" id=\"files-45b8dbcb-646c-47bc-8356-c8c969037ab4\" name=\"files[]\" multiple disabled\n",
              "        style=\"border:none\" />\n",
              "     <output id=\"result-45b8dbcb-646c-47bc-8356-c8c969037ab4\">\n",
              "      Upload widget is only available when the cell has been executed in the\n",
              "      current browser session. Please rerun this cell to enable.\n",
              "      </output>\n",
              "      <script>// Copyright 2017 Google LLC\n",
              "//\n",
              "// Licensed under the Apache License, Version 2.0 (the \"License\");\n",
              "// you may not use this file except in compliance with the License.\n",
              "// You may obtain a copy of the License at\n",
              "//\n",
              "//      http://www.apache.org/licenses/LICENSE-2.0\n",
              "//\n",
              "// Unless required by applicable law or agreed to in writing, software\n",
              "// distributed under the License is distributed on an \"AS IS\" BASIS,\n",
              "// WITHOUT WARRANTIES OR CONDITIONS OF ANY KIND, either express or implied.\n",
              "// See the License for the specific language governing permissions and\n",
              "// limitations under the License.\n",
              "\n",
              "/**\n",
              " * @fileoverview Helpers for google.colab Python module.\n",
              " */\n",
              "(function(scope) {\n",
              "function span(text, styleAttributes = {}) {\n",
              "  const element = document.createElement('span');\n",
              "  element.textContent = text;\n",
              "  for (const key of Object.keys(styleAttributes)) {\n",
              "    element.style[key] = styleAttributes[key];\n",
              "  }\n",
              "  return element;\n",
              "}\n",
              "\n",
              "// Max number of bytes which will be uploaded at a time.\n",
              "const MAX_PAYLOAD_SIZE = 100 * 1024;\n",
              "\n",
              "function _uploadFiles(inputId, outputId) {\n",
              "  const steps = uploadFilesStep(inputId, outputId);\n",
              "  const outputElement = document.getElementById(outputId);\n",
              "  // Cache steps on the outputElement to make it available for the next call\n",
              "  // to uploadFilesContinue from Python.\n",
              "  outputElement.steps = steps;\n",
              "\n",
              "  return _uploadFilesContinue(outputId);\n",
              "}\n",
              "\n",
              "// This is roughly an async generator (not supported in the browser yet),\n",
              "// where there are multiple asynchronous steps and the Python side is going\n",
              "// to poll for completion of each step.\n",
              "// This uses a Promise to block the python side on completion of each step,\n",
              "// then passes the result of the previous step as the input to the next step.\n",
              "function _uploadFilesContinue(outputId) {\n",
              "  const outputElement = document.getElementById(outputId);\n",
              "  const steps = outputElement.steps;\n",
              "\n",
              "  const next = steps.next(outputElement.lastPromiseValue);\n",
              "  return Promise.resolve(next.value.promise).then((value) => {\n",
              "    // Cache the last promise value to make it available to the next\n",
              "    // step of the generator.\n",
              "    outputElement.lastPromiseValue = value;\n",
              "    return next.value.response;\n",
              "  });\n",
              "}\n",
              "\n",
              "/**\n",
              " * Generator function which is called between each async step of the upload\n",
              " * process.\n",
              " * @param {string} inputId Element ID of the input file picker element.\n",
              " * @param {string} outputId Element ID of the output display.\n",
              " * @return {!Iterable<!Object>} Iterable of next steps.\n",
              " */\n",
              "function* uploadFilesStep(inputId, outputId) {\n",
              "  const inputElement = document.getElementById(inputId);\n",
              "  inputElement.disabled = false;\n",
              "\n",
              "  const outputElement = document.getElementById(outputId);\n",
              "  outputElement.innerHTML = '';\n",
              "\n",
              "  const pickedPromise = new Promise((resolve) => {\n",
              "    inputElement.addEventListener('change', (e) => {\n",
              "      resolve(e.target.files);\n",
              "    });\n",
              "  });\n",
              "\n",
              "  const cancel = document.createElement('button');\n",
              "  inputElement.parentElement.appendChild(cancel);\n",
              "  cancel.textContent = 'Cancel upload';\n",
              "  const cancelPromise = new Promise((resolve) => {\n",
              "    cancel.onclick = () => {\n",
              "      resolve(null);\n",
              "    };\n",
              "  });\n",
              "\n",
              "  // Wait for the user to pick the files.\n",
              "  const files = yield {\n",
              "    promise: Promise.race([pickedPromise, cancelPromise]),\n",
              "    response: {\n",
              "      action: 'starting',\n",
              "    }\n",
              "  };\n",
              "\n",
              "  cancel.remove();\n",
              "\n",
              "  // Disable the input element since further picks are not allowed.\n",
              "  inputElement.disabled = true;\n",
              "\n",
              "  if (!files) {\n",
              "    return {\n",
              "      response: {\n",
              "        action: 'complete',\n",
              "      }\n",
              "    };\n",
              "  }\n",
              "\n",
              "  for (const file of files) {\n",
              "    const li = document.createElement('li');\n",
              "    li.append(span(file.name, {fontWeight: 'bold'}));\n",
              "    li.append(span(\n",
              "        `(${file.type || 'n/a'}) - ${file.size} bytes, ` +\n",
              "        `last modified: ${\n",
              "            file.lastModifiedDate ? file.lastModifiedDate.toLocaleDateString() :\n",
              "                                    'n/a'} - `));\n",
              "    const percent = span('0% done');\n",
              "    li.appendChild(percent);\n",
              "\n",
              "    outputElement.appendChild(li);\n",
              "\n",
              "    const fileDataPromise = new Promise((resolve) => {\n",
              "      const reader = new FileReader();\n",
              "      reader.onload = (e) => {\n",
              "        resolve(e.target.result);\n",
              "      };\n",
              "      reader.readAsArrayBuffer(file);\n",
              "    });\n",
              "    // Wait for the data to be ready.\n",
              "    let fileData = yield {\n",
              "      promise: fileDataPromise,\n",
              "      response: {\n",
              "        action: 'continue',\n",
              "      }\n",
              "    };\n",
              "\n",
              "    // Use a chunked sending to avoid message size limits. See b/62115660.\n",
              "    let position = 0;\n",
              "    do {\n",
              "      const length = Math.min(fileData.byteLength - position, MAX_PAYLOAD_SIZE);\n",
              "      const chunk = new Uint8Array(fileData, position, length);\n",
              "      position += length;\n",
              "\n",
              "      const base64 = btoa(String.fromCharCode.apply(null, chunk));\n",
              "      yield {\n",
              "        response: {\n",
              "          action: 'append',\n",
              "          file: file.name,\n",
              "          data: base64,\n",
              "        },\n",
              "      };\n",
              "\n",
              "      let percentDone = fileData.byteLength === 0 ?\n",
              "          100 :\n",
              "          Math.round((position / fileData.byteLength) * 100);\n",
              "      percent.textContent = `${percentDone}% done`;\n",
              "\n",
              "    } while (position < fileData.byteLength);\n",
              "  }\n",
              "\n",
              "  // All done.\n",
              "  yield {\n",
              "    response: {\n",
              "      action: 'complete',\n",
              "    }\n",
              "  };\n",
              "}\n",
              "\n",
              "scope.google = scope.google || {};\n",
              "scope.google.colab = scope.google.colab || {};\n",
              "scope.google.colab._files = {\n",
              "  _uploadFiles,\n",
              "  _uploadFilesContinue,\n",
              "};\n",
              "})(self);\n",
              "</script> "
            ]
          },
          "metadata": {}
        },
        {
          "output_type": "stream",
          "name": "stdout",
          "text": [
            "Saving GBOScores.csv to GBOScores (4).csv\n"
          ]
        }
      ]
    },
    {
      "cell_type": "code",
      "source": [
        "scores = df['Score'].tolist()\n",
        "names = df['Name'].tolist()\n",
        "bad_values = []\n",
        "l = len(scores)\n",
        "\n",
        "if l%3==1:\n",
        "  names.insert(l-2, \"None\")\n",
        "  names.append(\"None\")\n",
        "  scores.insert(l-2, 0)\n",
        "  scores.append(0)\n",
        "  bad_values = [l+1, l-2]\n",
        "elif l%3==2:\n",
        "  scores.append(0)\n",
        "  names.append(\"None\")\n",
        "  bad_values = [l]"
      ],
      "metadata": {
        "colab": {
          "base_uri": "https://localhost:8080/"
        },
        "id": "hTQLOAphAByr",
        "outputId": "80649d98-68ba-4d87-8348-3473924bbfeb"
      },
      "execution_count": 32,
      "outputs": [
        {
          "output_type": "stream",
          "name": "stdout",
          "text": [
            "[230, 236, 265, 267, 208, 200, 206, 246, 195, 118, 187, 143, 75, 85, 183, 186, 210, 0, 263, 300, 0]\n"
          ]
        }
      ]
    },
    {
      "cell_type": "code",
      "source": [
        "length = len(scores)\n",
        "teams = int(length/3)\n",
        "\n",
        "j=5\n",
        "curr_score = correctness(scores)\n",
        "for i in range(100):\n",
        "\tfor a in range(l):\n",
        "\t\tfor b in range(l):\n",
        "\t\t\tif a == b or a in bad_values or b in bad_values:\n",
        "\t\t\t\tcontinue\n",
        "\n",
        "\t\t\tnew_scores = scores[:]\n",
        "\t\t\tnew_names = names[:]\n",
        "\t\t\tnew_scores[a], new_scores[b] = scores[b], scores[a]\n",
        "\t\t\tnew_names[a], new_names[b] = names[b], names[a]\n",
        "\n",
        "\t\t\tif correctness(new_scores) < curr_score:\n",
        "\t\t\t\tcurr_score = correctness(new_scores)\n",
        "\t\t\t\tscores = new_scores\n",
        "\t\t\t\tnames = new_names\n",
        "\n",
        "\n",
        "print(curr_score)\n",
        "\n",
        "output_teams = np.reshape(np.array(names), (teams,3))\n",
        "output_scores = average_score(scores)\n",
        "\n",
        "for i in range(teams):\n",
        "  print(\"Team:\", output_teams[i], \"Average Score Score:\", output_scores[i])"
      ],
      "metadata": {
        "colab": {
          "base_uri": "https://localhost:8080/"
        },
        "id": "HGPA3ayFX6CJ",
        "outputId": "ac4b9051-eb8a-403d-b420-26f2fd80c65a"
      },
      "execution_count": 33,
      "outputs": [
        {
          "output_type": "stream",
          "name": "stdout",
          "text": [
            "3.0891882267396342\n",
            "Team: ['Person D' 'Person M' 'Person C'] Average Score Score: 202.33333333333334\n",
            "Team: ['Person J' 'Person H' 'Person B'] Average Score Score: 200.0\n",
            "Team: ['Person P' 'Person K' 'Person A'] Average Score Score: 201.0\n",
            "Team: ['Person Q' 'Person E' 'Person O'] Average Score Score: 200.33333333333334\n",
            "Team: ['Person R' 'Person F' 'Person L'] Average Score Score: 202.0\n",
            "Team: ['Person G' 'Person I' 'None'] Average Score Score: 200.5\n",
            "Team: ['Person N' 'Person S' 'None'] Average Score Score: 192.5\n"
          ]
        }
      ]
    },
    {
      "cell_type": "code",
      "source": [],
      "metadata": {
        "id": "jpoX43czXadg"
      },
      "execution_count": 33,
      "outputs": []
    }
  ]
}